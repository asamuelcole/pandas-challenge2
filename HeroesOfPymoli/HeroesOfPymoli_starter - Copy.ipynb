{
 "cells": [
  {
   "cell_type": "markdown",
   "metadata": {},
   "source": [
    "### Heroes Of Pymoli Data Analysis\n",
    "* Of the 1163 active players, the vast majority are male (84%). There also exists, a smaller, but notable proportion of female players (14%).\n",
    "\n",
    "* Our peak age demographic falls between 20-24 (44.8%) with secondary groups falling between 15-19 (18.60%) and 25-29 (13.4%).  \n",
    "-----"
   ]
  },
  {
   "cell_type": "markdown",
   "metadata": {},
   "source": [
    "### Note\n",
    "* Instructions have been included for each segment. You do not have to follow them exactly, but they are included to help you think through the steps."
   ]
  },
  {
   "cell_type": "code",
   "execution_count": null,
   "metadata": {},
   "outputs": [],
   "source": [
    "# Dependencies and Setup\n",
    "import pandas as pd\n",
    "\n",
    "# File to Load (Remember to Change These)\n",
    "file_to_load = \"Resources/purchase_data.csv\"\n",
    "\n",
    "# Read Purchasing File and store into Pandas data frame\n",
    "purchase_data = pd.read_csv(file_to_load)\n",
    "\n",
    "# Display\n",
    "purchase_data"
   ]
  },
  {
   "cell_type": "markdown",
   "metadata": {},
   "source": [
    "## Player Count"
   ]
  },
  {
   "cell_type": "markdown",
   "metadata": {},
   "source": [
    "* Display the total number of players\n"
   ]
  },
  {
   "cell_type": "code",
   "execution_count": null,
   "metadata": {},
   "outputs": [],
   "source": [
    "# Total amount of Players\n",
    "total_players = len((purchase_data[\"SN\"]).unique())\n",
    "total_players_df = pd.DataFrame({\"Total Players\": [total_players]})\n",
    "\n",
    "# Display\n",
    "total_players_df"
   ]
  },
  {
   "cell_type": "markdown",
   "metadata": {},
   "source": [
    "## Purchasing Analysis (Total)"
   ]
  },
  {
   "cell_type": "markdown",
   "metadata": {},
   "source": [
    "* Run basic calculations to obtain number of unique items, average price, etc.\n",
    "\n",
    "\n",
    "* Create a summary data frame to hold the results\n",
    "\n",
    "\n",
    "* Optional: give the displayed data cleaner formatting\n",
    "\n",
    "\n",
    "* Display the summary data frame\n"
   ]
  },
  {
   "cell_type": "code",
   "execution_count": null,
   "metadata": {
    "scrolled": true
   },
   "outputs": [],
   "source": [
    "# Number of unique items based on Item ID\n",
    "unique_items = len((purchase_data[\"Item ID\"]).unique())\n",
    "\n",
    "# Average Price\n",
    "average_price = purchase_data[\"Price\"].mean()\n",
    "\n",
    "# Number of purchases based on Purchase ID\n",
    "num_of_purchases = len((purchase_data[\"Purchase ID\"]).unique())\n",
    "\n",
    "# Total Revenue summed by Price column\n",
    "total_revenue = purchase_data[\"Price\"].sum()\n",
    "\n",
    "# Create DataFrame\n",
    "purchase_summary_df = pd.DataFrame({\"Number of Unique Items\": [unique_items], \"Average Price\": [average_price], \n",
    "                                     \"Number of Purchases\": [num_of_purchases], \"Total Revenue\": [total_revenue]})\n",
    "\n",
    "# Format DataFrame\n",
    "purchase_summary_df.style.format({'Average Price': \"${:,.2f}\",\n",
    "                                'Total Revenue': \"${:,.2f}\"})"
   ]
  },
  {
   "cell_type": "markdown",
   "metadata": {},
   "source": [
    "Gender Demographics"
   ]
  },
  {
   "cell_type": "markdown",
   "metadata": {},
   "source": [
    "* Percentage and Count of Male Players\n",
    "\n",
    "\n",
    "* Percentage and Count of Female Players\n",
    "\n",
    "\n",
    "* Percentage and Count of Other / Non-Disclosed\n",
    "\n",
    "\n"
   ]
  },
  {
   "cell_type": "code",
   "execution_count": null,
   "metadata": {
    "scrolled": true
   },
   "outputs": [],
   "source": [
    "# Group by Gender\n",
    "gender_counts_df = purchase_data.groupby(\"Gender\")\n",
    "\n",
    "# Total Players by Gender\n",
    "gender_totals_df = pd.DataFrame({'Total Count': gender_counts_df.nunique()[\"SN\"]})\n",
    "\n",
    "# Sort Descending\n",
    "gender_totals_df = gender_totals_df.sort_values(by=['Total Count'], ascending=False)\n",
    "\n",
    "# Sum Total Players\n",
    "player_totals = gender_totals_df['Total Count'].sum()\n",
    "\n",
    "# Percentage of Players by Gender\n",
    "gender_totals_df['Percentage of Players'] = (gender_totals_df['Total Count'] / player_totals)\n",
    "\n",
    "# Formatting\n",
    "gender_totals_df['Percentage of Players'] = gender_totals_df['Percentage of Players'].astype(float).map(\"{:.2%}\".format)\n",
    "\n",
    "# Display\n",
    "gender_totals_df"
   ]
  },
  {
   "cell_type": "markdown",
   "metadata": {},
   "source": [
    "\n",
    "## Purchasing Analysis (Gender)"
   ]
  },
  {
   "cell_type": "markdown",
   "metadata": {},
   "source": [
    "* Run basic calculations to obtain purchase count, avg. purchase price, avg. purchase total per person etc. by gender\n",
    "\n",
    "\n",
    "\n",
    "\n",
    "* Create a summary data frame to hold the results\n",
    "\n",
    "\n",
    "* Optional: give the displayed data cleaner formatting\n",
    "\n",
    "\n",
    "* Display the summary data frame"
   ]
  },
  {
   "cell_type": "code",
   "execution_count": null,
   "metadata": {},
   "outputs": [],
   "source": [
    "# Total Purchases\n",
    "purchase_count = gender_counts_df['Purchase ID'].count()\n",
    "\n",
    "# Average Purchase Price\n",
    "avg_purchase = gender_counts_df['Price'].mean()\n",
    "\n",
    "# Total Purchase Amount\n",
    "total_purchase = gender_counts_df['Price'].sum()\n",
    "\n",
    "# Totals by gender\n",
    "gen_totals = gender_counts_df.nunique()[\"SN\"]\n",
    "\n",
    "# Average Total Purchase per Person\n",
    "purchase_person = total_purchase / gen_totals\n",
    "\n",
    "# Create DataFrame\n",
    "purch_analysis_df = pd.DataFrame({'Purchase Count': purchase_count, 'Average Purchase Price': avg_purchase, \n",
    "                               'Total Purchase Value': total_purchase, 'Avg Total Purchase per Person': purchase_person})\n",
    "\n",
    "# Format DataFrame\n",
    "purch_analysis_df['Average Purchase Price'] = purch_analysis_df['Average Purchase Price'].astype(float).map(\"${:.2f}\".format)\n",
    "purch_analysis_df['Total Purchase Value'] = purch_analysis_df['Total Purchase Value'].astype(float).map(\"${:.2f}\".format)\n",
    "purch_analysis_df['Avg Total Purchase per Person'] = purch_analysis_df['Avg Total Purchase per Person'].astype(float).map(\"${:.2f}\".format)\n",
    "purch_analysis_df.index.name = ''\n",
    "\n",
    "#Display DataFrame\n",
    "purch_analysis_df"
   ]
  },
  {
   "cell_type": "markdown",
   "metadata": {},
   "source": [
    "## Age Demographics"
   ]
  },
  {
   "cell_type": "markdown",
   "metadata": {},
   "source": [
    "* Establish bins for ages\n",
    "\n",
    "\n",
    "* Categorize the existing players using the age bins. Hint: use pd.cut()\n",
    "\n",
    "\n",
    "* Calculate the numbers and percentages by age group\n",
    "\n",
    "\n",
    "* Create a summary data frame to hold the results\n",
    "\n",
    "\n",
    "* Optional: round the percentage column to two decimal points\n",
    "\n",
    "\n",
    "* Display Age Demographics Table\n"
   ]
  },
  {
   "cell_type": "code",
   "execution_count": null,
   "metadata": {},
   "outputs": [],
   "source": [
    "# Create Bins\n",
    "bins = [0, 9, 14, 19, 24, 29, 34, 39, 200]\n",
    "\n",
    "# Set Group Names\n",
    "group_names = [\"<10\", \"10-14\", \"15-19\", \"20-24\", \"25-29\", \"30-34\", \"35-39\", \"40+\"]\n",
    "\n",
    "# Confirm Bins\n",
    "purchase_data[\"Age Range\"] = pd.cut(purchase_data['Age'], bins, labels=group_names, include_lowest=True)\n",
    "age_df = purchase_data.groupby(\"Age Range\")\n",
    "\n",
    "# Count Unique SN by age\n",
    "age_count = age_df.nunique()[\"SN\"]\n",
    "\n",
    "# Obtain Total Players\n",
    "age_totals = age_count.sum()\n",
    "\n",
    "# Create DataFrame\n",
    "age_demo_df = pd.DataFrame({'Total Count': age_count, 'Percentage of Players': (age_count/age_totals)})\n",
    "\n",
    "# Format DataFrame\n",
    "age_demo_df['Percentage of Players'] = age_demo_df['Percentage of Players'].astype(float).map(\"{:.2%}\".format)\n",
    "\n",
    "# Display DataFrame\n",
    "age_demo_df"
   ]
  },
  {
   "cell_type": "markdown",
   "metadata": {},
   "source": [
    "## Purchasing Analysis (Age)"
   ]
  },
  {
   "cell_type": "markdown",
   "metadata": {},
   "source": [
    "* Bin the purchase_data data frame by age\n",
    "\n",
    "\n",
    "* Run basic calculations to obtain purchase count, avg. purchase price, avg. purchase total per person etc. in the table below\n",
    "\n",
    "\n",
    "* Create a summary data frame to hold the results\n",
    "\n",
    "\n",
    "* Optional: give the displayed data cleaner formatting\n",
    "\n",
    "\n",
    "* Display the summary data frame"
   ]
  },
  {
   "cell_type": "code",
   "execution_count": null,
   "metadata": {},
   "outputs": [],
   "source": [
    "# Count number of purchases\n",
    "purchase_count_age = age_df['Purchase ID'].count()\n",
    "\n",
    "# Average Purchase Price\n",
    "avg_purchase_age = age_df['Price'].mean()\n",
    "\n",
    "# Sum Purchase Price\n",
    "total_purchase_age = age_df['Price'].sum()\n",
    "\n",
    "# Avg Total Purchase per Person\n",
    "purchase_age = total_purchase_age / age_count\n",
    "\n",
    "# Create DataFrame\n",
    "age_analysis_df = pd.DataFrame({'Purchase Count': purchase_count_age, 'Average Purchase Price': avg_purchase_age, \n",
    "                               'Total Purchase Value': total_purchase_age, 'Avg Total Purchase per Person': purchase_age})\n",
    "\n",
    "# Format DataFrame\n",
    "age_analysis_df['Average Purchase Price'] = age_analysis_df['Average Purchase Price'].astype(float).map(\"${:.2f}\".format)\n",
    "age_analysis_df['Total Purchase Value'] = age_analysis_df['Total Purchase Value'].astype(float).map(\"${:.2f}\".format)\n",
    "age_analysis_df['Avg Total Purchase per Person'] = age_analysis_df['Avg Total Purchase per Person'].astype(float).map(\"${:.2f}\".format)\n",
    "age_analysis_df.index.name = ''\n",
    "\n",
    "# Display DataFrame\n",
    "age_analysis_df"
   ]
  },
  {
   "cell_type": "markdown",
   "metadata": {},
   "source": [
    "## Top Spenders"
   ]
  },
  {
   "cell_type": "markdown",
   "metadata": {},
   "source": [
    "* Run basic calculations to obtain the results in the table below\n",
    "\n",
    "\n",
    "* Create a summary data frame to hold the results\n",
    "\n",
    "\n",
    "* Sort the total purchase value column in descending order\n",
    "\n",
    "\n",
    "* Optional: give the displayed data cleaner formatting\n",
    "\n",
    "\n",
    "* Display a preview of the summary data frame\n",
    "\n"
   ]
  },
  {
   "cell_type": "code",
   "execution_count": null,
   "metadata": {},
   "outputs": [],
   "source": [
    "# Group purchase_data by \"SN\"\n",
    "sn = purchase_data.groupby(\"SN\")\n",
    "\n",
    "# Count number of purchases\n",
    "purchase_count_sn = sn['Purchase ID'].count()\n",
    "\n",
    "# Average Purchase Price\n",
    "average_purchase_sn = sn['Price'].mean()\n",
    "\n",
    "# Sum Purchase Price\n",
    "total_purchase_sn = sn['Price'].sum()\n",
    "\n",
    "# Create DataFrame\n",
    "spenders_df = pd.DataFrame({'Purchase Count': purchase_count_sn,\n",
    "                            'Average Purchase Price': average_purchase_sn,\n",
    "                            'Total Purchase Value': total_purchase_sn})\n",
    "\n",
    "# Sort DataFrame\n",
    "spenders_df = spenders_df.sort_values([\"Total Purchase Value\"], ascending=False)\n",
    "\n",
    "# Format DataFrame\n",
    "spenders_df['Average Purchase Price'] = spenders_df['Average Purchase Price'].astype(float).map(\"${:.2f}\".format)\n",
    "spenders_df['Total Purchase Value'] = spenders_df['Total Purchase Value'].astype(float).map(\"${:.2f}\".format)\n",
    "spenders_df.index.name = 'SN'\n",
    "\n",
    "# Display DataFrame\n",
    "spenders_df.head()"
   ]
  },
  {
   "cell_type": "markdown",
   "metadata": {},
   "source": [
    "## Most Popular Items"
   ]
  },
  {
   "cell_type": "markdown",
   "metadata": {},
   "source": [
    "* Retrieve the Item ID, Item Name, and Item Price columns\n",
    "\n",
    "\n",
    "* Group by Item ID and Item Name. Perform calculations to obtain purchase count, item price, and total purchase value\n",
    "\n",
    "\n",
    "* Create a summary data frame to hold the results\n",
    "\n",
    "\n",
    "* Sort the purchase count column in descending order\n",
    "\n",
    "\n",
    "* Optional: give the displayed data cleaner formatting\n",
    "\n",
    "\n",
    "* Display a preview of the summary data frame\n",
    "\n"
   ]
  },
  {
   "cell_type": "code",
   "execution_count": null,
   "metadata": {},
   "outputs": [],
   "source": [
    "# Retrieve Item ID, Name, Price from purchase_data\n",
    "pop_df = purchase_data.loc[:, [\"Item ID\", \"Item Name\", \"Price\"]]\n",
    "\n",
    "# Groupby\n",
    "pop_items = pop_df.groupby(['Item ID', 'Item Name'])\n",
    "\n",
    "# Set Index\n",
    "# pop_items = pop_df.set_index(['Item ID', 'Item Name'])\n",
    "\n",
    "# Purchase Count\n",
    "purchase_count_pop = pop_items['Price'].count()\n",
    "\n",
    "# Total Purchase Value\n",
    "purchase_count_price = pop_items['Price'].sum()\n",
    "\n",
    "# Create DataFrame\n",
    "most_pop_df = pd.DataFrame({'Purchase Count': purchase_count_pop, \n",
    "                            'Total Purchase Value': purchase_count_price})\n",
    "\n",
    "# Item Price\n",
    "most_pop_df['Item Price'] = most_pop_df['Total Purchase Value'] / most_pop_df['Purchase Count']\n",
    "\n",
    "# Organize DataFrame\n",
    "most_pop_df = most_pop_df[['Purchase Count', 'Item Price', 'Total Purchase Value']]\n",
    "\n",
    "#Create a copy for final step\n",
    "copy_most_pop_df = most_pop_df\n",
    "\n",
    "# Sort Values\n",
    "most_pop_df = most_pop_df.sort_values(['Purchase Count'], ascending=False)\n",
    "\n",
    "# Format DataFrame\n",
    "most_pop_df['Item Price'] = most_pop_df['Item Price'].astype(float).map(\"${:.2f}\".format)\n",
    "most_pop_df['Total Purchase Value'] = most_pop_df['Total Purchase Value'].astype(float).map(\"${:.2f}\".format)\n",
    "\n",
    "# Display DataFrame\n",
    "most_pop_df.head()"
   ]
  },
  {
   "cell_type": "markdown",
   "metadata": {},
   "source": [
    "## Most Profitable Items"
   ]
  },
  {
   "cell_type": "markdown",
   "metadata": {},
   "source": [
    "* Sort the above table by total purchase value in descending order\n",
    "\n",
    "\n",
    "* Optional: give the displayed data cleaner formatting\n",
    "\n",
    "\n",
    "* Display a preview of the data frame\n",
    "\n"
   ]
  },
  {
   "cell_type": "code",
   "execution_count": null,
   "metadata": {
    "scrolled": true
   },
   "outputs": [],
   "source": [
    "# Create new DataFrame and sort by Total Purchase Value\n",
    "most_profit_df = copy_most_pop_df.sort_values(['Total Purchase Value'], ascending=False)\n",
    "\n",
    "# Formatting\n",
    "most_profit_df['Item Price'] = most_profit_df['Item Price'].astype(float).map(\"${:.2f}\".format)\n",
    "most_profit_df['Total Purchase Value'] = most_profit_df['Total Purchase Value'].astype(float).map(\"${:.2f}\".format)\n",
    "\n",
    "# Display Preview\n",
    "most_profit_df.head()"
   ]
  },
  {
   "cell_type": "code",
   "execution_count": null,
   "metadata": {},
   "outputs": [],
   "source": []
  }
 ],
 "metadata": {
  "anaconda-cloud": {},
  "kernel_info": {
   "name": "python3"
  },
  "kernelspec": {
   "display_name": "Python 3",
   "language": "python",
   "name": "python3"
  },
  "language_info": {
   "codemirror_mode": {
    "name": "ipython",
    "version": 3
   },
   "file_extension": ".py",
   "mimetype": "text/x-python",
   "name": "python",
   "nbconvert_exporter": "python",
   "pygments_lexer": "ipython3",
   "version": "3.7.6"
  },
  "latex_envs": {
   "LaTeX_envs_menu_present": true,
   "autoclose": false,
   "autocomplete": true,
   "bibliofile": "biblio.bib",
   "cite_by": "apalike",
   "current_citInitial": 1,
   "eqLabelWithNumbers": true,
   "eqNumInitial": 1,
   "hotkeys": {
    "equation": "Ctrl-E",
    "itemize": "Ctrl-I"
   },
   "labels_anchors": false,
   "latex_user_defs": false,
   "report_style_numbering": false,
   "user_envs_cfg": false
  },
  "nteract": {
   "version": "0.2.0"
  }
 },
 "nbformat": 4,
 "nbformat_minor": 2
}
